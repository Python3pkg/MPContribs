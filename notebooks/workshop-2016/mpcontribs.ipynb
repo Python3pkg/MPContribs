{
 "cells": [
  {
   "cell_type": "markdown",
   "metadata": {},
   "source": [
    "```\n",
    "JUPYTER_CONFIG_DIR=$PWD/profile \\ \n",
    "jupyter notebook --NotebookApp.allow_origin=\"*\"\n",
    "```"
   ]
  },
  {
   "cell_type": "markdown",
   "metadata": {},
   "source": [
    "# Introduction\n",
    "\n",
    "- sustainability\n",
    "- presentation / dissemination\n",
    "- data management & interoperability\n",
    "- connect to / annotate MP data\n",
    "- generating data and developing frameworks  \n",
    "\n",
    "*data dissemination/management as efficient as MP!*\n",
    "\n",
    "![slide1](mpcontribs_slide1.jpg)\n",
    "\n",
    "![slide2](mpcontribs_slide2.jpg)"
   ]
  },
  {
   "cell_type": "markdown",
   "metadata": {},
   "source": [
    "# UW/SI2 Video Demo\n",
    "\n",
    "https://www.youtube.com/watch?v=wbWde5StHnU (3:43min)"
   ]
  },
  {
   "cell_type": "markdown",
   "metadata": {},
   "source": [
    "# Live Demo of UW/SI2 Use Case\n",
    "\n",
    "In UW/SI2 use case, the publication-ready data is shared among authors and collaborators via Excel sheets and made available to the public through [FigShare](https://figshare.com).\n",
    "\n",
    "[![figshare_screenshot](figshare_1546772.jpg)](https://figshare.com/articles/DFT_dilute_solute_diffusion_in_Al_Cu_Ni_Pd_Pt_and_Mg/1546772)\n"
   ]
  },
  {
   "cell_type": "markdown",
   "metadata": {},
   "source": [
    "## Start MPContribs"
   ]
  },
  {
   "cell_type": "code",
   "execution_count": 4,
   "metadata": {
    "collapsed": false
   },
   "outputs": [
    {
     "name": "stdout",
     "output_type": "stream",
     "text": [
      "usage: mpcontribs [-h] [--sbx SBX] [--debug] [--start-jupyter] [--jupyter-url URL]\r\n",
      "\r\n",
      "Command Line Interface for MPContribs WebUI\r\n",
      "\r\n",
      "optional arguments:\r\n",
      "  -h, --help         show this help message and exit\r\n",
      "  --sbx SBX          ArchieML Sandbox Content (default: None)\r\n",
      "  --debug            run in debug mode (default: False)\r\n",
      "  --start-jupyter    start Jupyter server (default: False)\r\n",
      "  --jupyter-url URL  Jupyter URL (default: http://localhost:8888)\r\n"
     ]
    }
   ],
   "source": [
    "!mpcontribs -h"
   ]
  },
  {
   "cell_type": "code",
   "execution_count": 7,
   "metadata": {
    "collapsed": false
   },
   "outputs": [
    {
     "name": "stdout",
     "output_type": "stream",
     "text": [
      "using gsed\n",
      "\u001b[32minfo\u001b[39m: Done.\n",
      "static files collected.\n",
      " * Running on http://0.0.0.0:5000/ (Press CTRL+C to quit)\n",
      "127.0.0.1 - - [10/Aug/2016 23:56:36] \"GET / HTTP/1.1\" 200 -\n",
      "killed mongod\n",
      "mongod started.\n",
      "127.0.0.1 - - [10/Aug/2016 23:56:36] \"GET / HTTP/1.1\" 200 -\n",
      "127.0.0.1 - - [10/Aug/2016 23:56:40] \"POST /action HTTP/1.1\" 302 -\n",
      "127.0.0.1 - - [10/Aug/2016 23:56:40] \"GET /load HTTP/1.1\" 200 -\n",
      "127.0.0.1 - - [10/Aug/2016 23:56:57] \"GET /static/js/lib/backbone-min.map; HTTP/1.1\" 404 -\n",
      "killed mongod\n",
      "127.0.0.1 - - [10/Aug/2016 23:57:13] \"GET /shutdown HTTP/1.1\" 200 -\n",
      "mongod started.\n"
     ]
    }
   ],
   "source": [
    "!mpcontribs --sbx \"figshare_id: 1546772\""
   ]
  },
  {
   "cell_type": "markdown",
   "metadata": {},
   "source": [
    "- using UW/SI2's FigShare ID as input (to ArchieML sandbox)\n",
    "- MPContribs UI at http://localhost:5000"
   ]
  },
  {
   "cell_type": "markdown",
   "metadata": {},
   "source": [
    "## Pre-Process / Prepare / Review Data\n",
    "\n",
    "- select `uw_si2` as project to inject FigShare processing code\n",
    "- show `mpcontribs.users.uw_si2.pre_submission` processing [code](https://github.com/materialsproject/MPContribsUsers/blob/master/uw_si2/pre_submission.py#L23)"
   ]
  },
  {
   "cell_type": "markdown",
   "metadata": {},
   "source": [
    "### *Load MPFile*\n",
    "\n",
    "- run Jupyter cell with couple of hosts, i.e. `hosts=['Cu', 'Al']`\n",
    "- resulting MPFile loaded in memory/session (click *Save MPFile* to download)\n",
    "\n",
    "![load_mpfile_screenshot](load_mpfile.jpg)"
   ]
  },
  {
   "cell_type": "markdown",
   "metadata": {},
   "source": [
    "### *View MPFile*\n",
    "\n",
    "- toggle hierarchical data, tables, graphs, and notebook inputs\n",
    "- jump to contribution, back to top\n",
    "- sort table by solute element name\n",
    "- hover interactive graph, (de-)select traces in legend\n",
    "- download graph as png, save to plotly cloud, zoom/reset\n",
    "- overview plot of lattice constant vs melting temperature vs vac. formation energy\n",
    "- click data point in overview plot to jump to contribution\n",
    "\n",
    "![view_mpfile_screenshot](view_mpfile.jpg)"
   ]
  },
  {
   "cell_type": "markdown",
   "metadata": {},
   "source": [
    "## Contribute Data\n",
    "\n",
    "### Setup / Test\n",
    "\n",
    "- *webtzite* dashboard for API key (via `contribute-?` icon)\n",
    "- MPContribs REST API at http://localhost:5000/test_site/mpcontribs/rest"
   ]
  },
  {
   "cell_type": "markdown",
   "metadata": {},
   "source": [
    "### Submit\n",
    "\n",
    "#### contribute-Go!\n",
    "\n",
    "![contribute_mpfile_screenshot](contribute_mpfile.jpg)\n",
    "\n",
    "#### View Contribution Detail Page\n",
    "\n",
    "Future:  \n",
    "DOI assigned via MPCite for references,  \n",
    "see https://www.youtube.com/watch?v=bHhuO4EOgEw\n",
    "\n",
    "![detail_page_screenshot](detail_page.jpg)"
   ]
  },
  {
   "cell_type": "markdown",
   "metadata": {},
   "source": [
    "### Explore\n",
    "\n",
    "#### via Generic UI\n",
    "\n",
    "http://localhost:5000/test_site/mpcontribs/explorer/materials  \n",
    "(will be improved to allow for graph-driven exploring)\n",
    "\n",
    "![explore_generic_screenshot](explore_generic.jpg)\n",
    "\n",
    "#### via Project UI / WebApp\n",
    "\n",
    "- http://localhost:5000/test_site/uwsi2/explorer\n",
    "- repeating MPContribs cycle with `hosts=['Fe', 'Au']` would automatically show the new data in the UW/Si2 app (see introduction video)\n",
    "\n",
    "![explore_uwsi2_screenshot](explore_uwsi2.jpg)"
   ]
  },
  {
   "cell_type": "markdown",
   "metadata": {},
   "source": [
    "## MP-ALS Use Case\n",
    "\n",
    "* input MPFile used as configuration file for spectra analysis\n",
    "* spectra analysis directly on Beamline-Computer\n",
    "* phase-diagram app to compare experimental and computational data\n",
    "* see https://www.youtube.com/watch?v=zH-ZauYsu64 (5min)\n",
    "\n",
    "![als_mp_app](als_mp_app.jpg)"
   ]
  },
  {
   "cell_type": "markdown",
   "metadata": {},
   "source": [
    "## Retrieve and Display Contribution Data\n",
    "\n",
    "see code embedded in static notebook on contribution detail page"
   ]
  },
  {
   "cell_type": "code",
   "execution_count": 1,
   "metadata": {
    "collapsed": true
   },
   "outputs": [],
   "source": [
    "from mpcontribs.rest.rester import MPContribsRester"
   ]
  },
  {
   "cell_type": "code",
   "execution_count": 2,
   "metadata": {
    "collapsed": true
   },
   "outputs": [],
   "source": [
    "mpr = MPContribsRester(\n",
    "    'Gn6tOpaHM1EAsbTr',\n",
    "    endpoint='http://localhost:5000/test_site/mpcontribs/rest'\n",
    ")"
   ]
  },
  {
   "cell_type": "code",
   "execution_count": 3,
   "metadata": {
    "collapsed": false
   },
   "outputs": [
    {
     "data": {
      "text/plain": [
       "{u'contributor': u'Patrick Huck',\n",
       " u'contributor_added': False,\n",
       " u'group_added': False,\n",
       " u'institution': u'LBNL',\n",
       " u'is_contrib': True}"
      ]
     },
     "execution_count": 3,
     "metadata": {},
     "output_type": "execute_result"
    }
   ],
   "source": [
    "mpr.check_contributor()"
   ]
  },
  {
   "cell_type": "code",
   "execution_count": 4,
   "metadata": {
    "collapsed": false
   },
   "outputs": [
    {
     "data": {
      "text/plain": [
       "[{u'_id': u'57abbc33dace6e34025d3aa2',\n",
       "  u'collaborators': [u'Patrick Huck'],\n",
       "  u'mp_cat_id': u'mp-30'},\n",
       " {u'_id': u'57abbc37dace6e34025d3aa4',\n",
       "  u'collaborators': [u'Patrick Huck'],\n",
       "  u'mp_cat_id': u'mp-4'},\n",
       " {u'_id': u'57aa30e2dace6e1770757f26',\n",
       "  u'collaborators': [u'Patrick Huck'],\n",
       "  u'mp_cat_id': u'mp-134'}]"
      ]
     },
     "execution_count": 4,
     "metadata": {},
     "output_type": "execute_result"
    }
   ],
   "source": [
    "mpr.query_contributions()"
   ]
  },
  {
   "cell_type": "code",
   "execution_count": 5,
   "metadata": {
    "collapsed": false
   },
   "outputs": [],
   "source": [
    "mpfile = mpr.find_contribution('57abbc33dace6e34025d3aa2')"
   ]
  },
  {
   "cell_type": "code",
   "execution_count": 6,
   "metadata": {
    "collapsed": false
   },
   "outputs": [],
   "source": [
    "mpid = mpfile.ids[0]"
   ]
  },
  {
   "cell_type": "code",
   "execution_count": null,
   "metadata": {
    "collapsed": false
   },
   "outputs": [],
   "source": [
    "mpfile.hdata[mpid]"
   ]
  },
  {
   "cell_type": "markdown",
   "metadata": {},
   "source": [
    "![hdata](hdata.jpg)"
   ]
  },
  {
   "cell_type": "code",
   "execution_count": null,
   "metadata": {
    "collapsed": false
   },
   "outputs": [],
   "source": [
    "mpfile.tdata[mpid]['data_table2']"
   ]
  },
  {
   "cell_type": "markdown",
   "metadata": {},
   "source": [
    "![tdata](tdata.jpg)"
   ]
  },
  {
   "cell_type": "code",
   "execution_count": null,
   "metadata": {
    "collapsed": false
   },
   "outputs": [],
   "source": [
    "mpfile.gdata[mpid]['table2']"
   ]
  },
  {
   "cell_type": "markdown",
   "metadata": {},
   "source": [
    "![gdata](gdata.jpg)"
   ]
  }
 ],
 "metadata": {
  "kernelspec": {
   "display_name": "Python 2",
   "language": "python",
   "name": "python2"
  },
  "language_info": {
   "codemirror_mode": {
    "name": "ipython",
    "version": 2
   },
   "file_extension": ".py",
   "mimetype": "text/x-python",
   "name": "python",
   "nbconvert_exporter": "python",
   "pygments_lexer": "ipython2",
   "version": "2.7.10"
  }
 },
 "nbformat": 4,
 "nbformat_minor": 0
}
