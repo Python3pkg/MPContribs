{
 "cells": [
  {
   "cell_type": "markdown",
   "metadata": {},
   "source": [
    "# Introduction\n",
    "\n",
    "- introduce goal(s)/purpose of MPContribs\n",
    "- show UW/SI2 Video Demo"
   ]
  },
  {
   "cell_type": "markdown",
   "metadata": {},
   "source": [
    "# Demo\n",
    "\n",
    "In UW/SI2 use case, the publication-ready data is shared among authors and collaborators via Excel sheets and made available to the public through [FigShare](https://figshare.com).\n",
    "\n",
    "[![title](figshare_1546772.jpg)](https://figshare.com/articles/DFT_dilute_solute_diffusion_in_Al_Cu_Ni_Pd_Pt_and_Mg/1546772)\n"
   ]
  },
  {
   "cell_type": "markdown",
   "metadata": {},
   "source": [
    "## Start MPContribs"
   ]
  },
  {
   "cell_type": "code",
   "execution_count": null,
   "metadata": {
    "collapsed": true
   },
   "outputs": [],
   "source": [
    "!mpcontribs --sbx \"figshare_id: 1546772\""
   ]
  },
  {
   "cell_type": "markdown",
   "metadata": {},
   "source": [
    "- using UW/SI2's FigShare ID as input (to ArchieML sandbox)\n",
    "- MPContribs UI at http://localhost:5000"
   ]
  },
  {
   "cell_type": "markdown",
   "metadata": {},
   "source": [
    "## Pre-Process / Prepare\n",
    "\n",
    "- load MPFile\n",
    "- show uwsi2 pre-processing code, run with single host, i.e. `hosts=['Al']`\n",
    "- view MPFile\n",
    "\n",
    "## Contribute\n",
    "\n",
    "### Setup\n",
    "\n",
    "- go to dashboard via contribute-?\n",
    "- /test_site/webtzite\n",
    "  * login\n",
    "  * dashboard\n",
    "  * API key\n",
    "- /test_site/mpcontribs/rest\n",
    "  * check_contributor request (change URL)\n",
    "  * notice `group_added` and `contributor_added`\n",
    "  \n",
    "### Submit\n",
    "\n",
    "- contribute-Go!\n",
    "- view contribution detail page\n",
    "- /test_site/mpcontribs/explorer\n",
    "- /test_site/uwsi2/explorer\n",
    "\n",
    "## Retrieve and Display Contribution\n",
    "\n",
    "- use above detail page as template"
   ]
  },
  {
   "cell_type": "code",
   "execution_count": 1,
   "metadata": {
    "collapsed": true
   },
   "outputs": [],
   "source": [
    "from mpcontribs.rest.rester import MPContribsRester"
   ]
  },
  {
   "cell_type": "code",
   "execution_count": 2,
   "metadata": {
    "collapsed": true
   },
   "outputs": [],
   "source": [
    "mpr = MPContribsRester('Gn6tOpaHM1EAsbTr', endpoint='http://localhost:5000/test_site/mpcontribs/rest')"
   ]
  },
  {
   "cell_type": "code",
   "execution_count": 3,
   "metadata": {
    "collapsed": false
   },
   "outputs": [
    {
     "data": {
      "text/plain": [
       "{u'contributor': u'Patrick Huck',\n",
       " u'contributor_added': False,\n",
       " u'group_added': False,\n",
       " u'institution': u'LBNL',\n",
       " u'is_contrib': True}"
      ]
     },
     "execution_count": 3,
     "metadata": {},
     "output_type": "execute_result"
    }
   ],
   "source": [
    "mpr.check_contributor()"
   ]
  },
  {
   "cell_type": "code",
   "execution_count": 4,
   "metadata": {
    "collapsed": false
   },
   "outputs": [
    {
     "data": {
      "text/plain": [
       "[{u'_id': u'57abbc33dace6e34025d3aa2',\n",
       "  u'collaborators': [u'Patrick Huck'],\n",
       "  u'mp_cat_id': u'mp-30'},\n",
       " {u'_id': u'57abbc37dace6e34025d3aa4',\n",
       "  u'collaborators': [u'Patrick Huck'],\n",
       "  u'mp_cat_id': u'mp-4'},\n",
       " {u'_id': u'57aa30e2dace6e1770757f26',\n",
       "  u'collaborators': [u'Patrick Huck'],\n",
       "  u'mp_cat_id': u'mp-134'}]"
      ]
     },
     "execution_count": 4,
     "metadata": {},
     "output_type": "execute_result"
    }
   ],
   "source": [
    "mpr.query_contributions()"
   ]
  },
  {
   "cell_type": "code",
   "execution_count": 5,
   "metadata": {
    "collapsed": false
   },
   "outputs": [],
   "source": [
    "mpfile = mpr.find_contribution('57abbc33dace6e34025d3aa2')"
   ]
  },
  {
   "cell_type": "code",
   "execution_count": 6,
   "metadata": {
    "collapsed": false
   },
   "outputs": [],
   "source": [
    "mpid = mpfile.ids[0]"
   ]
  },
  {
   "cell_type": "code",
   "execution_count": 7,
   "metadata": {
    "collapsed": false
   },
   "outputs": [
    {
     "data": {
      "text/html": [
       "<div id='e06b5313-a396-44b7-93dc-c8e34504fb37' style='width:100%;'></div>"
      ]
     },
     "metadata": {},
     "output_type": "display_data"
    },
    {
     "data": {
      "application/javascript": [
       "\n",
       "        require([\"json.human\"], function(JsonHuman) {\n",
       "          \"use strict\";\n",
       "          var data = JSON.parse('{\"info\": {\"y\": \"7\", \"x\": \"5\", \"tag\": \"numbers in hierarchical data\", \"z\": \"9\"}, \"Experiment\": {\"Measurement\": {\"Beamline\": {\"Monochromator\": {\"Exit_Slit\": \"20\\u00b5m\", \"Grating\": \"600l/mm\"}, \"Method\": \"Soft x-ray XAS and XMCD\", \"Beamline\": \"ALS-6.3.1\"}}}}');\n",
       "          var node = JsonHuman.format(data);\n",
       "          document.getElementById('e06b5313-a396-44b7-93dc-c8e34504fb37').appendChild(node);\n",
       "        });\n",
       "        "
      ]
     },
     "metadata": {},
     "output_type": "display_data"
    }
   ],
   "source": [
    "mpfile.hdata[mpid]"
   ]
  },
  {
   "cell_type": "code",
   "execution_count": 10,
   "metadata": {
    "collapsed": false
   },
   "outputs": [
    {
     "data": {
      "text/html": [
       "<div id='886497eb-d387-423a-a541-cc25fc8974d8' style='width:100%;'></div>\n",
       "    <script>\n",
       "    require([\"backgrid\"], function(Backgrid) {\n",
       "      \"use strict\";\n",
       "      var table = JSON.parse('{\"rows\": [{\"Energy\": \"761.0\", \"XAS\": \"0.008445\", \"XMCD\": \"-0.001452\"}, {\"Energy\": \"762.0\", \"XAS\": \"0.007812\", \"XMCD\": \"-0.000682\"}], \"columns\": [{\"cell\": \"string\", \"name\": \"Energy\"}, {\"cell\": \"string\", \"name\": \"XAS\"}, {\"cell\": \"string\", \"name\": \"XMCD\"}]}');\n",
       "      var Row = Backbone.Model.extend({});\n",
       "      var Rows = Backbone.Collection.extend({model: Row, mode: \"client\"});\n",
       "      var rows = new Rows(table['rows']);\n",
       "      var grid = new Backgrid.Grid({ columns: table['columns'], collection: rows });\n",
       "      $('#886497eb-d387-423a-a541-cc25fc8974d8').append(grid.render().el);\n",
       "    });\n",
       "    </script>\n",
       "    "
      ],
      "text/plain": [
       "   Energy       XAS      XMCD\n",
       "0     761  0.008445 -0.001452\n",
       "1     762  0.007812 -0.000682"
      ]
     },
     "execution_count": 10,
     "metadata": {},
     "output_type": "execute_result"
    }
   ],
   "source": [
    "mpfile.tdata[mpid]['data_table2']"
   ]
  },
  {
   "cell_type": "code",
   "execution_count": 12,
   "metadata": {
    "collapsed": false
   },
   "outputs": [
    {
     "data": {
      "text/html": [
       "<div id=\"0f092883-cfe2-4fdd-9612-23249c841cec\" style=\"height: 525; width: 100%;\" class=\"plotly-graph-div\"></div><script type=\"text/javascript\">require([\"plotly\"], function(Plotly) { window.PLOTLYENV=window.PLOTLYENV || {};window.PLOTLYENV.BASE_URL=\"https://plot.ly\";Plotly.newPlot(\"0f092883-cfe2-4fdd-9612-23249c841cec\", [{\"y\": [0.008445000000000001, 0.007812], \"x\": [761.0, 762.0], \"name\": \"XAS\"}, {\"y\": [-0.001452, -0.000682], \"x\": [761.0, 762.0], \"name\": \"XMCD\"}], {\"margin\": {\"r\": 0, \"t\": 40}, \"legend\": {\"y\": 1, \"x\": 0.7}, \"xaxis\": {\"title\": \"Energy\"}}, {\"linkText\": \"\", \"showLink\": false})});</script>"
      ],
      "text/plain": [
       "<IPython.core.display.HTML object>"
      ]
     },
     "metadata": {},
     "output_type": "display_data"
    }
   ],
   "source": [
    "mpfile.gdata[mpid]['table2']"
   ]
  }
 ],
 "metadata": {
  "kernelspec": {
   "display_name": "Python 2",
   "language": "python",
   "name": "python2"
  },
  "language_info": {
   "codemirror_mode": {
    "name": "ipython",
    "version": 2
   },
   "file_extension": ".py",
   "mimetype": "text/x-python",
   "name": "python",
   "nbconvert_exporter": "python",
   "pygments_lexer": "ipython2",
   "version": "2.7.10"
  }
 },
 "nbformat": 4,
 "nbformat_minor": 0
}
